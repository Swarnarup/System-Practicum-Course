{
  "nbformat": 4,
  "nbformat_minor": 0,
  "metadata": {
    "colab": {
      "provenance": []
    },
    "kernelspec": {
      "name": "python3",
      "display_name": "Python 3"
    },
    "language_info": {
      "name": "python"
    }
  },
  "cells": [
    {
      "cell_type": "code",
      "source": [
        "pip install pythonping\n"
      ],
      "metadata": {
        "colab": {
          "base_uri": "https://localhost:8080/"
        },
        "id": "A9XSJF8v06-r",
        "outputId": "ce53659a-d02a-46c6-d700-aa413d53bb84"
      },
      "execution_count": 4,
      "outputs": [
        {
          "output_type": "stream",
          "name": "stdout",
          "text": [
            "Collecting pythonping\n",
            "  Downloading pythonping-1.1.4-py3-none-any.whl (16 kB)\n",
            "Installing collected packages: pythonping\n",
            "Successfully installed pythonping-1.1.4\n"
          ]
        }
      ]
    },
    {
      "cell_type": "code",
      "source": [
        "from pythonping import ping\n",
        "\n",
        "websites = [\"www.google.com\", \"www.stackoverflow.com\", \"www.medium.com\"]\n",
        "counts = [3, 10, 12]\n",
        "sizes = [32, 60, 100]\n",
        "\n",
        "print(\"Website,Count,Size,RTT_Avg_ms\")\n",
        "\n",
        "for website in websites:\n",
        "    for count in counts:\n",
        "        for size in sizes:\n",
        "\n",
        "            response_list = ping(website, count=count, size=size)\n",
        "            rtt_avg_ms = response_list.rtt_avg_ms if response_list.rtt_avg_ms is not None else \"N/A\"\n",
        "\n",
        "\n",
        "            print(f\"{website},{count},{size},{rtt_avg_ms}\")\n"
      ],
      "metadata": {
        "colab": {
          "base_uri": "https://localhost:8080/"
        },
        "id": "XV8xlpls1pI7",
        "outputId": "5fc5b3da-ff05-4285-ab14-328346c6f008"
      },
      "execution_count": 7,
      "outputs": [
        {
          "output_type": "stream",
          "name": "stdout",
          "text": [
            "Website,Count,Size,RTT_Avg_ms\n",
            "www.google.com,3,32,0.56\n",
            "www.google.com,3,60,0.28\n",
            "www.google.com,3,100,0.35\n",
            "www.google.com,10,32,0.31\n",
            "www.google.com,10,60,0.29\n",
            "www.google.com,10,100,0.33\n",
            "www.google.com,12,32,0.28\n",
            "www.google.com,12,60,0.28\n",
            "www.google.com,12,100,0.31\n",
            "www.stackoverflow.com,3,32,10.82\n",
            "www.stackoverflow.com,3,60,10.63\n",
            "www.stackoverflow.com,3,100,10.59\n",
            "www.stackoverflow.com,10,32,10.58\n",
            "www.stackoverflow.com,10,60,10.63\n",
            "www.stackoverflow.com,10,100,10.78\n",
            "www.stackoverflow.com,12,32,10.6\n",
            "www.stackoverflow.com,12,60,10.59\n",
            "www.stackoverflow.com,12,100,10.55\n",
            "www.medium.com,3,32,10.85\n",
            "www.medium.com,3,60,10.62\n",
            "www.medium.com,3,100,10.61\n",
            "www.medium.com,10,32,10.66\n",
            "www.medium.com,10,60,10.6\n",
            "www.medium.com,10,100,10.59\n",
            "www.medium.com,12,32,10.63\n",
            "www.medium.com,12,60,10.58\n",
            "www.medium.com,12,100,10.63\n"
          ]
        }
      ]
    }
  ]
}